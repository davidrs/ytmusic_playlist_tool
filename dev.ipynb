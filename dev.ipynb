{
 "cells": [
  {
   "cell_type": "markdown",
   "metadata": {},
   "source": [
    "## Explore YT Music API"
   ]
  },
  {
   "cell_type": "code",
   "execution_count": null,
   "metadata": {},
   "outputs": [],
   "source": [
    "import pandas as pd\n",
    "\n",
    "from ytmusicapi import YTMusic\n",
    "import ytmusicapi\n",
    "\n",
    "TEST_PLAYLIST_ID ='PLXYeZ3VwLuLuZpwfs3GQQFvOuo7sg8IzF'"
   ]
  },
  {
   "cell_type": "code",
   "execution_count": null,
   "metadata": {},
   "outputs": [],
   "source": [
    "\n",
    "\n",
    "yt = YTMusic(\"browser.json\")\n",
    "# playlistId = yt.create_playlist('test', 'test description')\n",
    "search_results = yt.search('Oasis Wonderwall')\n",
    "search_results\n",
    "# yt.add_playlist_items(playlistId, [search_results[0]['videoId']])"
   ]
  },
  {
   "cell_type": "code",
   "execution_count": null,
   "metadata": {},
   "outputs": [],
   "source": [
    "## user palylists\n",
    "playlists = yt.get_library_playlists()\n",
    "playlists[0]"
   ]
  },
  {
   "cell_type": "code",
   "execution_count": null,
   "metadata": {},
   "outputs": [],
   "source": [
    "test_playlist = yt.get_playlist(TEST_PLAYLIST_ID)\n",
    "print(len(test_playlist['tracks']))"
   ]
  },
  {
   "cell_type": "code",
   "execution_count": null,
   "metadata": {},
   "outputs": [],
   "source": [
    "liked_songs = yt.get_liked_songs()\n",
    "liked_songs['tracks'][0]"
   ]
  },
  {
   "cell_type": "code",
   "execution_count": null,
   "metadata": {},
   "outputs": [],
   "source": [
    "liked_metadata = []\n",
    "\n",
    "for song in liked_songs['tracks']:\n",
    "    liked_metadata.append(yt.get_song(song['videoId']))\n"
   ]
  },
  {
   "cell_type": "code",
   "execution_count": null,
   "metadata": {},
   "outputs": [],
   "source": [
    "liked_metadata[0]['videoDetails']"
   ]
  },
  {
   "cell_type": "code",
   "execution_count": null,
   "metadata": {},
   "outputs": [],
   "source": [
    "## Choose low count liked songs:\n",
    "keep_keys =['videoId','title','author','viewCount','lengthSeconds','publishDate']\n",
    "liked_df =[]\n",
    "for song in liked_metadata:\n",
    "    # print(song['videoDetails'])\n",
    "    liked_df.append({k:song['videoDetails'][k] for k in keep_keys})\n",
    "\n",
    "liked_df = pd.DataFrame(liked_df)\n",
    "# cast int viewCount\n",
    "liked_df['viewCount'] = liked_df['viewCount'].astype(int)\n",
    "liked_df = liked_df.sort_values('viewCount')\n",
    "liked_df"
   ]
  },
  {
   "cell_type": "markdown",
   "metadata": {},
   "source": [
    "## Put songs i like that aren't so popular on playlist"
   ]
  },
  {
   "cell_type": "code",
   "execution_count": null,
   "metadata": {},
   "outputs": [],
   "source": [
    "rare_like = liked_df[liked_df['viewCount']<158030].videoId.tolist()\n",
    "yt.add_playlist_items(playlistId=TEST_PLAYLIST_ID, videoIds=rare_like, )"
   ]
  },
  {
   "cell_type": "markdown",
   "metadata": {},
   "source": [
    "## GEt history"
   ]
  },
  {
   "cell_type": "code",
   "execution_count": null,
   "metadata": {},
   "outputs": [],
   "source": [
    "history = yt.get_history()\n",
    "history"
   ]
  },
  {
   "cell_type": "code",
   "execution_count": null,
   "metadata": {},
   "outputs": [],
   "source": [
    "## Remove any music that has been listened to recently in last 200 songs.\n",
    "recent_listens = set([v['videoId'] for v in history])\n",
    "\n",
    "# iterate over current playlist and remove any recent listens\n",
    "removeable = [ v for v in test_playlist['tracks'] if v['videoId'] in recent_listens]\n",
    "print(len(removeable), removeable)\n",
    "\n",
    "yt.remove_playlist_items(playlistId=TEST_PLAYLIST_ID, videos=removeable, )"
   ]
  },
  {
   "cell_type": "markdown",
   "metadata": {},
   "source": [
    "## for each one grab two recommended ones and add them to the list"
   ]
  },
  {
   "cell_type": "code",
   "execution_count": null,
   "metadata": {},
   "outputs": [],
   "source": [
    "rare_like"
   ]
  },
  {
   "cell_type": "code",
   "execution_count": null,
   "metadata": {},
   "outputs": [],
   "source": [
    "new_songs = []\n",
    "for song in rare_like:\n",
    "   new_songs.extend(yt.get_watch_playlist(videoId=song,limit=5, radio = True)['tracks'])\n",
    "\n",
    "new_songs[:2]"
   ]
  },
  {
   "cell_type": "code",
   "execution_count": null,
   "metadata": {},
   "outputs": [],
   "source": [
    "# drop any new_songs that are in recent\n",
    "print(len(new_songs))\n",
    "\n",
    "new_songs = [v for v in new_songs if v['videoId'] not in recent_listens]\n",
    "print(len(new_songs), new_songs[:2])"
   ]
  },
  {
   "cell_type": "code",
   "execution_count": null,
   "metadata": {},
   "outputs": [],
   "source": [
    "from time import sleep\n",
    "print(len(new_songs), new_songs[:2])\n",
    "new_metadata = []\n",
    "for song in new_songs:\n",
    "    new_metadata.append(yt.get_song(song['videoId']))\n",
    "    sleep(0.3)\n",
    "    "
   ]
  },
  {
   "cell_type": "code",
   "execution_count": null,
   "metadata": {},
   "outputs": [],
   "source": [
    "\n",
    "new_df =[]\n",
    "for song in new_metadata:\n",
    "    # print(song['videoDetails'])\n",
    "    new_df.append({k:song['videoDetails'][k] for k in keep_keys})\n",
    "\n",
    "new_df = pd.DataFrame(new_df)\n",
    "# cast int viewCount\n",
    "new_df['viewCount'] = new_df['viewCount'].astype(int)\n",
    "new_df = new_df.sort_values('viewCount')\n",
    "new_df"
   ]
  },
  {
   "cell_type": "code",
   "execution_count": null,
   "metadata": {},
   "outputs": [],
   "source": [
    "videoId_to_add = new_df[new_df['viewCount']<158030].videoId.tolist()\n",
    "\n",
    "# Drop any in liked songs or in recent listens\n",
    "videoId_to_add = [v for v in videoId_to_add if v not in recent_listens]\n",
    "print(len(videoId_to_add), videoId_to_add[:2])\n",
    "videoId_to_add = [v for v in videoId_to_add if v not in liked_songs]\n",
    "print(len(videoId_to_add), videoId_to_add[:2])\n",
    "# drop any already in test_playlist\n",
    "test_playlist_ids = [v['videoId'] for v in test_playlist['tracks']]\n",
    "videoId_to_add = [v for v in videoId_to_add if v not in test_playlist_ids]"
   ]
  },
  {
   "cell_type": "code",
   "execution_count": null,
   "metadata": {},
   "outputs": [],
   "source": [
    "## Add to playlist\n",
    "from time import sleep\n",
    "for batch in range(0,len(videoId_to_add),5):\n",
    "    print(batch)\n",
    "    yt.add_playlist_items(playlistId=TEST_PLAYLIST_ID, videoIds=videoId_to_add[batch:batch+5], )\n",
    "    sleep(1.3)"
   ]
  }
 ],
 "metadata": {
  "kernelspec": {
   "display_name": "3.9.16",
   "language": "python",
   "name": "python3"
  },
  "language_info": {
   "codemirror_mode": {
    "name": "ipython",
    "version": 3
   },
   "file_extension": ".py",
   "mimetype": "text/x-python",
   "name": "python",
   "nbconvert_exporter": "python",
   "pygments_lexer": "ipython3",
   "version": "3.9.16"
  }
 },
 "nbformat": 4,
 "nbformat_minor": 2
}
